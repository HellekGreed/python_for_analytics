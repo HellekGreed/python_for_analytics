{
 "cells": [
  {
   "cell_type": "markdown",
   "id": "e683d95d",
   "metadata": {},
   "source": [
    "## Задание 1"
   ]
  },
  {
   "cell_type": "markdown",
   "id": "d4da2c45",
   "metadata": {},
   "source": [
    "Оформляйте ноутбук, используя эти советы:<br>  \n",
    "Номер задачи - заголовок 2<br>\n",
    "Номер подзадачи - заголовок 3<br>\n",
    "Предоставленные наборы данных оформляйте, как код<br>"
   ]
  },
  {
   "cell_type": "markdown",
   "id": "ab6b7628",
   "metadata": {},
   "source": [
    "## Задание 2\n",
    "На складе лежат разные фрукты в разном количестве.<br>  \n",
    "Нужно написать функцию, которая на вход принимает любое количество названий фруктов и их количество, а возвращает общее количество фруктов на складе"
   ]
  },
  {
   "cell_type": "code",
   "execution_count": 1,
   "id": "9732a9a2",
   "metadata": {},
   "outputs": [],
   "source": [
    "def sum_fruit(**kwargs):\n",
    "    result_dict = kwargs\n",
    "    return sum(result_dict.values())\n",
    "        "
   ]
  },
  {
   "cell_type": "code",
   "execution_count": 2,
   "id": "9d9d5008",
   "metadata": {},
   "outputs": [
    {
     "data": {
      "text/plain": [
       "25"
      ]
     },
     "execution_count": 2,
     "metadata": {},
     "output_type": "execute_result"
    }
   ],
   "source": [
    "sum_fruit(apples = 9,\n",
    "          orange = 11,\n",
    "          pear = 5)"
   ]
  },
  {
   "cell_type": "markdown",
   "id": "d03c6b3c",
   "metadata": {},
   "source": [
    "## Задание 3"
   ]
  },
  {
   "cell_type": "markdown",
   "id": "e15321dc",
   "metadata": {},
   "source": [
    "Дан список с затратами на рекламу. Но в данных есть ошибки, некоторые затраты имеют отрицательную величину. Удалите такие значения из списка и посчитайте суммарные затраты"
   ]
  },
  {
   "cell_type": "code",
   "execution_count": 3,
   "id": "5c65cac0",
   "metadata": {},
   "outputs": [],
   "source": [
    "cost_list = [100, 125, -90, 345, 655, -1, 0, 200]"
   ]
  },
  {
   "cell_type": "markdown",
   "id": "98929055",
   "metadata": {},
   "source": [
    "Используйте list comprehensions"
   ]
  },
  {
   "cell_type": "code",
   "execution_count": 4,
   "id": "83c2be44",
   "metadata": {},
   "outputs": [
    {
     "data": {
      "text/plain": [
       "1425"
      ]
     },
     "execution_count": 4,
     "metadata": {},
     "output_type": "execute_result"
    }
   ],
   "source": [
    "result_list = [value for value in cost_list if value > 0]\n",
    "sum(result_list)"
   ]
  },
  {
   "cell_type": "markdown",
   "id": "fd7464fa",
   "metadata": {},
   "source": [
    "## Задание 4"
   ]
  },
  {
   "cell_type": "markdown",
   "id": "17ca35b4",
   "metadata": {},
   "source": [
    "Даны два списка.<br>  \n",
    "Дата покупки"
   ]
  },
  {
   "cell_type": "code",
   "execution_count": 5,
   "id": "24aac8f0",
   "metadata": {},
   "outputs": [],
   "source": [
    "date_list = ['2021-09-14', '2021-12-15', '2021-09-08', '2021-12-05', '2021-10-09', '2021-09-30', '2021-12-22', '2021-11-29', \n",
    "             '2021-12-24', '2021-11-26', '2021-10-27', '2021-12-18', '2021-11-09', '2021-11-23', '2021-09-27', '2021-10-02', \n",
    "             '2021-12-27', '2021-09-20', '2021-12-13', '2021-11-01', '2021-11-09', '2021-12-06', '2021-12-08', '2021-10-09', \n",
    "             '2021-10-31', '2021-09-30', '2021-11-09', '2021-12-13', '2021-10-26', '2021-12-09']"
   ]
  },
  {
   "cell_type": "markdown",
   "id": "7d2aafd6",
   "metadata": {},
   "source": [
    "Суммы покупок по датам"
   ]
  },
  {
   "cell_type": "code",
   "execution_count": 6,
   "id": "d03fe423",
   "metadata": {},
   "outputs": [],
   "source": [
    "amount_of_purchases = [1270, 8413, 9028, 3703, 5739, 4095, 295, 4944, 5723, 3701, 4471, 651, 7037, 4274, 6275, 4988, 6930, \n",
    "                       2971, 6592, 2004, 2822, 519, 3406, 2732, 5015, 2008, 316, 6333, 5700, 2887]"
   ]
  },
  {
   "cell_type": "markdown",
   "id": "67c29d84",
   "metadata": {},
   "source": [
    "### 4.1 Найдите, какая выручка у компании в ноябре"
   ]
  },
  {
   "cell_type": "markdown",
   "id": "b0bd088b",
   "metadata": {},
   "source": [
    "Используйте list comprehensions"
   ]
  },
  {
   "cell_type": "code",
   "execution_count": 7,
   "id": "0603a498",
   "metadata": {},
   "outputs": [
    {
     "data": {
      "text/plain": [
       "25098"
      ]
     },
     "execution_count": 7,
     "metadata": {},
     "output_type": "execute_result"
    }
   ],
   "source": [
    "november_list = [amount_of_purchases[i] for i in range(len(date_list)) if date_list[i][5:7] == '11']\n",
    "\n",
    "sum(november_list)"
   ]
  },
  {
   "cell_type": "markdown",
   "id": "f3ef743a",
   "metadata": {},
   "source": [
    "### 4.2 Найдите выручку компании в зависимости от месяца"
   ]
  },
  {
   "cell_type": "markdown",
   "id": "f349825e",
   "metadata": {},
   "source": [
    "Для этого напишите функцию, которая на вход принимает список с датами и список с выручкой, а на выходе словарь, где ключи - это месяцы, а значения - это выручка.<br>  \n",
    "Используйте аннотирование типов"
   ]
  },
  {
   "cell_type": "code",
   "execution_count": 8,
   "id": "27eebe35",
   "metadata": {},
   "outputs": [
    {
     "data": {
      "text/plain": [
       "{'09': 25647, '12': 45452, '10': 28645, '11': 25098}"
      ]
     },
     "execution_count": 8,
     "metadata": {},
     "output_type": "execute_result"
    }
   ],
   "source": [
    "def monthly_revenue(date: list, summ: list) -> dict:\n",
    "    result_dict = {}\n",
    "    for i in range(len(date)):\n",
    "        _, mounth, _ = date[i].split('-')\n",
    "        mounth_sum = {mounth: summ[i]}\n",
    "        if result_dict.get(mounth):\n",
    "            result_dict[mounth] += summ[i]\n",
    "        else:\n",
    "            result_dict.update(mounth_sum)\n",
    "    return result_dict\n",
    "\n",
    "monthly_revenue(date_list, amount_of_purchases)   "
   ]
  }
 ],
 "metadata": {
  "kernelspec": {
   "display_name": "Python 3 (ipykernel)",
   "language": "python",
   "name": "python3"
  },
  "language_info": {
   "codemirror_mode": {
    "name": "ipython",
    "version": 3
   },
   "file_extension": ".py",
   "mimetype": "text/x-python",
   "name": "python",
   "nbconvert_exporter": "python",
   "pygments_lexer": "ipython3",
   "version": "3.9.13"
  }
 },
 "nbformat": 4,
 "nbformat_minor": 5
}
